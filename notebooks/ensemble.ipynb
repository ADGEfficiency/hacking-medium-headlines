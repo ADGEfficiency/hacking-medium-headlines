{
 "cells": [
  {
   "cell_type": "code",
   "execution_count": 1,
   "metadata": {},
   "outputs": [
    {
     "name": "stdout",
     "output_type": "stream",
     "text": [
      "dict_keys(['nb-gau', 'voter', 'rf', 'gb', 'nb-multi', 'nb-ber'])\n",
      "dict_keys(['x_ho', 'x_tr', 'y_ho', 'y_tr', 'x', 'y'])\n"
     ]
    }
   ],
   "source": [
    "from src.dirs import MODELHOME, DATAHOME\n",
    "from src.ml import to_dense, TargetEncoding, stemmer\n",
    "from src.ml import evaluate_model, train_final_models\n",
    "from src.io import load_artifacts\n",
    "\n",
    "from src.data import create_features\n",
    "\n",
    "from joblib import load\n",
    "from sklearn.ensemble import StackingClassifier\n",
    "from sklearn.svm import LinearSVC\n",
    "\n",
    "from joblib import load\n",
    "mdls = [d for d in MODELHOME.glob('*') if not d.is_file()]\n",
    "mdls = {path.name: load_artifacts(path) for path in mdls}\n",
    "try:\n",
    "    del mdls['stack']\n",
    "except:\n",
    "    pass\n",
    "print(mdls.keys())\n",
    "binner = load(DATAHOME / 'processed' / 'binner.joblib')\n",
    "\n",
    "dataset = load_artifacts(DATAHOME / 'final')\n",
    "del dataset['path']\n",
    "del dataset['name']\n",
    "print(dataset.keys())"
   ]
  },
  {
   "cell_type": "code",
   "execution_count": 11,
   "metadata": {},
   "outputs": [
    {
     "name": "stdout",
     "output_type": "stream",
     "text": [
      "nb-gau\n",
      "{'score-tr': 0.6534312012208653, 'score-ho': 0.36152433196983863}\n",
      "voter\n",
      "{'score-tr': 0.6689681317498853, 'score-ho': 0.3991726793889182}\n",
      "rf\n",
      "{'score-tr': 0.9997975708502025, 'score-ho': 0.4039883339024996}\n",
      "gb\n",
      "{'score-tr': 0.6221273524145138, 'score-ho': 0.3825944808960168}\n",
      "nb-multi\n",
      "{'score-tr': 0.3516193098784601, 'score-ho': 0.3448433719911124}\n",
      "nb-ber\n",
      "{'score-tr': 0.3992375301523257, 'score-ho': 0.3730573641196602}\n"
     ]
    }
   ],
   "source": [
    "for name, mdl in mdls.items():\n",
    "    print(name) \n",
    "    print(mdl['holdout-score'])"
   ]
  },
  {
   "cell_type": "markdown",
   "metadata": {},
   "source": [
    "## Stacking"
   ]
  },
  {
   "cell_type": "code",
   "execution_count": 17,
   "metadata": {},
   "outputs": [
    {
     "name": "stderr",
     "output_type": "stream",
     "text": [
      "/Users/adam/.pyenv/versions/3.7.6/envs/medium-headlines/lib/python3.7/site-packages/sklearn/svm/_base.py:977: ConvergenceWarning: Liblinear failed to converge, increase the number of iterations.\n",
      "  \"the number of iterations.\", ConvergenceWarning)\n"
     ]
    },
    {
     "data": {
      "text/plain": [
       "{'score-tr': 0.4753715191282907, 'score-ho': 0.3898647653931139}"
      ]
     },
     "execution_count": 17,
     "metadata": {},
     "output_type": "execute_result"
    }
   ],
   "source": [
    "estimators = [\n",
    "    (name, mdl['pipe-tr']) for name, mdl in mdls.items()\n",
    "]\n",
    "\n",
    "stack = StackingClassifier(\n",
    "    estimators=estimators, \n",
    "    final_estimator=LinearSVC(C=2),\n",
    "    stack_method='predict',\n",
    "    verbose=2,\n",
    "    n_jobs=6,\n",
    "    cv=3\n",
    ")\n",
    "\n",
    "from sklearn.ensemble import VotingClassifier\n",
    "\n",
    "stack.fit(dataset['x_tr'], dataset['y_tr'].values.reshape(-1, ))\n",
    "evaluate_model(stack, **dataset)"
   ]
  },
  {
   "cell_type": "code",
   "execution_count": 13,
   "metadata": {},
   "outputs": [],
   "source": [
    "from src.ml import gridsearch, scorer\n",
    "\n",
    "params = {'final_estimator__C': [0.5, 1]},\n",
    "#gs = gridsearch(params, 'stack-search', pipe=stack, **dataset, verbose=2, n_jobs=6)"
   ]
  },
  {
   "cell_type": "code",
   "execution_count": 14,
   "metadata": {},
   "outputs": [
    {
     "data": {
      "text/plain": [
       "{'score-tr': 0.6691645423232683, 'score-ho': 0.39299129427171725}"
      ]
     },
     "execution_count": 14,
     "metadata": {},
     "output_type": "execute_result"
    }
   ],
   "source": [
    "voter = VotingClassifier(\n",
    "    estimators=estimators, \n",
    "    verbose=2,\n",
    "    n_jobs=6,\n",
    ")\n",
    "\n",
    "voter.fit(dataset['x_tr'], dataset['y_tr'].values.reshape(-1, ))\n",
    "evaluate_model(voter, **dataset)"
   ]
  },
  {
   "cell_type": "code",
   "execution_count": 15,
   "metadata": {},
   "outputs": [],
   "source": [
    "train_final_models(params=voter.get_params(), pipe=voter, **dataset, path='voter')"
   ]
  },
  {
   "cell_type": "code",
   "execution_count": 16,
   "metadata": {},
   "outputs": [],
   "source": [
    "est = stack.final_estimator_"
   ]
  },
  {
   "cell_type": "code",
   "execution_count": null,
   "metadata": {},
   "outputs": [],
   "source": [
    "#  5 classes\n",
    "#  3 models\n",
    "#  5 classes\n",
    "est.coef_.shape\n",
    "coef = est.coef_"
   ]
  },
  {
   "cell_type": "code",
   "execution_count": null,
   "metadata": {},
   "outputs": [],
   "source": [
    "coef.reshape(5, -1, 5).sum(axis=2)"
   ]
  },
  {
   "cell_type": "code",
   "execution_count": null,
   "metadata": {},
   "outputs": [],
   "source": []
  }
 ],
 "metadata": {
  "kernelspec": {
   "display_name": "Python 3",
   "language": "python",
   "name": "python3"
  },
  "language_info": {
   "codemirror_mode": {
    "name": "ipython",
    "version": 3
   },
   "file_extension": ".py",
   "mimetype": "text/x-python",
   "name": "python",
   "nbconvert_exporter": "python",
   "pygments_lexer": "ipython3",
   "version": "3.7.6"
  }
 },
 "nbformat": 4,
 "nbformat_minor": 4
}
