{
 "cells": [
  {
   "cell_type": "code",
   "execution_count": 1,
   "metadata": {},
   "outputs": [
    {
     "name": "stdout",
     "output_type": "stream",
     "text": [
      "raw ds shape: (7688, 8)\n",
      "dropping 861 duplicates\n",
      "dropping 1635 rows for 2017 year start\n",
      "processed ds shape: (5192, 6)\n"
     ]
    },
    {
     "data": {
      "text/html": [
       "<div>\n",
       "<style scoped>\n",
       "    .dataframe tbody tr th:only-of-type {\n",
       "        vertical-align: middle;\n",
       "    }\n",
       "\n",
       "    .dataframe tbody tr th {\n",
       "        vertical-align: top;\n",
       "    }\n",
       "\n",
       "    .dataframe thead th {\n",
       "        text-align: right;\n",
       "    }\n",
       "</style>\n",
       "<table border=\"1\" class=\"dataframe\">\n",
       "  <thead>\n",
       "    <tr style=\"text-align: right;\">\n",
       "      <th></th>\n",
       "      <th>headline</th>\n",
       "      <th>claps</th>\n",
       "      <th>site_id</th>\n",
       "      <th>year</th>\n",
       "      <th>month</th>\n",
       "      <th>site</th>\n",
       "      <th>binned-class</th>\n",
       "      <th>log-claps</th>\n",
       "      <th>clip-claps</th>\n",
       "      <th>n-characters</th>\n",
       "      <th>n-words</th>\n",
       "    </tr>\n",
       "  </thead>\n",
       "  <tbody>\n",
       "    <tr>\n",
       "      <th>4908</th>\n",
       "      <td>the most important skill nobody taught you</td>\n",
       "      <td>294000.0</td>\n",
       "      <td>personal-growth</td>\n",
       "      <td>2018</td>\n",
       "      <td>6</td>\n",
       "      <td>personal-growth</td>\n",
       "      <td>4.0</td>\n",
       "      <td>12.591335</td>\n",
       "      <td>50000.0</td>\n",
       "      <td>42</td>\n",
       "      <td>7</td>\n",
       "    </tr>\n",
       "    <tr>\n",
       "      <th>4621</th>\n",
       "      <td>travel is no cure for the mind</td>\n",
       "      <td>271000.0</td>\n",
       "      <td>personal-growth</td>\n",
       "      <td>2018</td>\n",
       "      <td>3</td>\n",
       "      <td>personal-growth</td>\n",
       "      <td>4.0</td>\n",
       "      <td>12.509874</td>\n",
       "      <td>50000.0</td>\n",
       "      <td>30</td>\n",
       "      <td>7</td>\n",
       "    </tr>\n",
       "    <tr>\n",
       "      <th>4622</th>\n",
       "      <td>the 3 keys to becoming irresistible</td>\n",
       "      <td>238000.0</td>\n",
       "      <td>personal-growth</td>\n",
       "      <td>2018</td>\n",
       "      <td>3</td>\n",
       "      <td>personal-growth</td>\n",
       "      <td>4.0</td>\n",
       "      <td>12.380026</td>\n",
       "      <td>50000.0</td>\n",
       "      <td>35</td>\n",
       "      <td>6</td>\n",
       "    </tr>\n",
       "    <tr>\n",
       "      <th>1264</th>\n",
       "      <td>im harvesting credit card numbers and password...</td>\n",
       "      <td>226000.0</td>\n",
       "      <td>hackernoon</td>\n",
       "      <td>2018</td>\n",
       "      <td>1</td>\n",
       "      <td>hackernoon</td>\n",
       "      <td>4.0</td>\n",
       "      <td>12.328290</td>\n",
       "      <td>50000.0</td>\n",
       "      <td>74</td>\n",
       "      <td>12</td>\n",
       "    </tr>\n",
       "    <tr>\n",
       "      <th>2426</th>\n",
       "      <td>how to think like a programmerlessons in probl...</td>\n",
       "      <td>210000.0</td>\n",
       "      <td>free-code-camp</td>\n",
       "      <td>2018</td>\n",
       "      <td>4</td>\n",
       "      <td>free-code-camp</td>\n",
       "      <td>4.0</td>\n",
       "      <td>12.254863</td>\n",
       "      <td>50000.0</td>\n",
       "      <td>56</td>\n",
       "      <td>9</td>\n",
       "    </tr>\n",
       "    <tr>\n",
       "      <th>...</th>\n",
       "      <td>...</td>\n",
       "      <td>...</td>\n",
       "      <td>...</td>\n",
       "      <td>...</td>\n",
       "      <td>...</td>\n",
       "      <td>...</td>\n",
       "      <td>...</td>\n",
       "      <td>...</td>\n",
       "      <td>...</td>\n",
       "      <td>...</td>\n",
       "      <td>...</td>\n",
       "    </tr>\n",
       "    <tr>\n",
       "      <th>1469</th>\n",
       "      <td>demystifying seth godins message on  a year fr...</td>\n",
       "      <td>1.0</td>\n",
       "      <td>hackernoon</td>\n",
       "      <td>2019</td>\n",
       "      <td>11</td>\n",
       "      <td>hackernoon</td>\n",
       "      <td>0.0</td>\n",
       "      <td>0.000000</td>\n",
       "      <td>1.0</td>\n",
       "      <td>54</td>\n",
       "      <td>10</td>\n",
       "    </tr>\n",
       "    <tr>\n",
       "      <th>1561</th>\n",
       "      <td>emoji reactions</td>\n",
       "      <td>1.0</td>\n",
       "      <td>hackernoon</td>\n",
       "      <td>2020</td>\n",
       "      <td>9</td>\n",
       "      <td>hackernoon</td>\n",
       "      <td>0.0</td>\n",
       "      <td>0.000000</td>\n",
       "      <td>1.0</td>\n",
       "      <td>17</td>\n",
       "      <td>4</td>\n",
       "    </tr>\n",
       "    <tr>\n",
       "      <th>1587</th>\n",
       "      <td>three tech stories</td>\n",
       "      <td>1.0</td>\n",
       "      <td>hackernoon</td>\n",
       "      <td>2020</td>\n",
       "      <td>10</td>\n",
       "      <td>hackernoon</td>\n",
       "      <td>0.0</td>\n",
       "      <td>0.000000</td>\n",
       "      <td>1.0</td>\n",
       "      <td>18</td>\n",
       "      <td>3</td>\n",
       "    </tr>\n",
       "    <tr>\n",
       "      <th>1377</th>\n",
       "      <td>ask me anything with bradley kam, co-founder o...</td>\n",
       "      <td>1.0</td>\n",
       "      <td>hackernoon</td>\n",
       "      <td>2020</td>\n",
       "      <td>7</td>\n",
       "      <td>hackernoon</td>\n",
       "      <td>0.0</td>\n",
       "      <td>0.000000</td>\n",
       "      <td>1.0</td>\n",
       "      <td>89</td>\n",
       "      <td>15</td>\n",
       "    </tr>\n",
       "    <tr>\n",
       "      <th>1563</th>\n",
       "      <td>ama with rana gujral, ceo of behavioral signal...</td>\n",
       "      <td>1.0</td>\n",
       "      <td>hackernoon</td>\n",
       "      <td>2020</td>\n",
       "      <td>9</td>\n",
       "      <td>hackernoon</td>\n",
       "      <td>0.0</td>\n",
       "      <td>0.000000</td>\n",
       "      <td>1.0</td>\n",
       "      <td>96</td>\n",
       "      <td>17</td>\n",
       "    </tr>\n",
       "  </tbody>\n",
       "</table>\n",
       "<p>5192 rows × 11 columns</p>\n",
       "</div>"
      ],
      "text/plain": [
       "                                               headline     claps          site_id  year  month             site  binned-class  log-claps  clip-claps  n-characters  n-words\n",
       "4908         the most important skill nobody taught you  294000.0  personal-growth  2018      6  personal-growth           4.0  12.591335     50000.0            42        7\n",
       "4621                     travel is no cure for the mind  271000.0  personal-growth  2018      3  personal-growth           4.0  12.509874     50000.0            30        7\n",
       "4622                the 3 keys to becoming irresistible  238000.0  personal-growth  2018      3  personal-growth           4.0  12.380026     50000.0            35        6\n",
       "1264  im harvesting credit card numbers and password...  226000.0       hackernoon  2018      1       hackernoon           4.0  12.328290     50000.0            74       12\n",
       "2426  how to think like a programmerlessons in probl...  210000.0   free-code-camp  2018      4   free-code-camp           4.0  12.254863     50000.0            56        9\n",
       "...                                                 ...       ...              ...   ...    ...              ...           ...        ...         ...           ...      ...\n",
       "1469  demystifying seth godins message on  a year fr...       1.0       hackernoon  2019     11       hackernoon           0.0   0.000000         1.0            54       10\n",
       "1561                                   emoji reactions        1.0       hackernoon  2020      9       hackernoon           0.0   0.000000         1.0            17        4\n",
       "1587                                 three tech stories       1.0       hackernoon  2020     10       hackernoon           0.0   0.000000         1.0            18        3\n",
       "1377  ask me anything with bradley kam, co-founder o...       1.0       hackernoon  2020      7       hackernoon           0.0   0.000000         1.0            89       15\n",
       "1563  ama with rana gujral, ceo of behavioral signal...       1.0       hackernoon  2020      9       hackernoon           0.0   0.000000         1.0            96       17\n",
       "\n",
       "[5192 rows x 11 columns]"
      ]
     },
     "execution_count": 1,
     "metadata": {},
     "output_type": "execute_result"
    }
   ],
   "source": [
    "from src.data import *\n",
    "\n",
    "import matplotlib.pyplot as plt\n",
    "\n",
    "dataset = process_raw_data(year_start=2017)\n",
    "dataset, binner = create_features(dataset, clip_max=50000, n_bins=5)\n",
    "dataset.sort_values('claps', ascending=False)"
   ]
  },
  {
   "cell_type": "markdown",
   "metadata": {},
   "source": [
    "## Clap statistics"
   ]
  },
  {
   "cell_type": "code",
   "execution_count": 2,
   "metadata": {},
   "outputs": [
    {
     "data": {
      "text/plain": [
       "count      5192.000000\n",
       "mean       4728.244029\n",
       "std       11816.929519\n",
       "min           1.000000\n",
       "25%         443.000000\n",
       "50%        1500.000000\n",
       "75%        5000.000000\n",
       "max      294000.000000\n",
       "Name: claps, dtype: float64"
      ]
     },
     "execution_count": 2,
     "metadata": {},
     "output_type": "execute_result"
    }
   ],
   "source": [
    "dataset['claps'].describe()"
   ]
  },
  {
   "cell_type": "markdown",
   "metadata": {},
   "source": [
    "## Distribution of claps"
   ]
  },
  {
   "cell_type": "code",
   "execution_count": 3,
   "metadata": {},
   "outputs": [
    {
     "data": {
      "text/plain": [
       "<AxesSubplot:ylabel='Frequency'>"
      ]
     },
     "execution_count": 3,
     "metadata": {},
     "output_type": "execute_result"
    },
    {
     "data": {
      "image/png": "[encoded data removed]",
      "text/plain": [
       "<Figure size 432x288 with 1 Axes>"
      ]
     },
     "metadata": {
      "needs_background": "light"
     },
     "output_type": "display_data"
    }
   ],
   "source": [
    "dataset.plot(y='claps', kind='hist', bins=100)"
   ]
  },
  {
   "cell_type": "markdown",
   "metadata": {},
   "source": [
    "## Distribution of clipped claps"
   ]
  },
  {
   "cell_type": "code",
   "execution_count": 4,
   "metadata": {},
   "outputs": [
    {
     "data": {
      "text/plain": [
       "<AxesSubplot:ylabel='Frequency'>"
      ]
     },
     "execution_count": 4,
     "metadata": {},
     "output_type": "execute_result"
    },
    {
     "data": {
      "image/png": "[encoded data removed]",
      "text/plain": [
       "<Figure size 432x288 with 1 Axes>"
      ]
     },
     "metadata": {
      "needs_background": "light"
     },
     "output_type": "display_data"
    }
   ],
   "source": [
    "dataset.plot(y='clip-claps', kind='hist', bins=100)"
   ]
  },
  {
   "cell_type": "markdown",
   "metadata": {},
   "source": [
    "## Distribution of log claps"
   ]
  },
  {
   "cell_type": "code",
   "execution_count": 5,
   "metadata": {},
   "outputs": [
    {
     "data": {
      "text/plain": [
       "<AxesSubplot:ylabel='Frequency'>"
      ]
     },
     "execution_count": 5,
     "metadata": {},
     "output_type": "execute_result"
    },
    {
     "data": {
      "image/png": "[encoded data removed]",
      "text/plain": [
       "<Figure size 432x288 with 1 Axes>"
      ]
     },
     "metadata": {
      "needs_background": "light"
     },
     "output_type": "display_data"
    }
   ],
   "source": [
    "dataset.plot(y='log-claps', kind='hist', bins=100)"
   ]
  },
  {
   "cell_type": "code",
   "execution_count": 6,
   "metadata": {},
   "outputs": [
    {
     "data": {
      "text/plain": [
       "<AxesSubplot:ylabel='Frequency'>"
      ]
     },
     "execution_count": 6,
     "metadata": {},
     "output_type": "execute_result"
    },
    {
     "data": {
      "image/png": "[encoded data removed]",
      "text/plain": [
       "<Figure size 1080x360 with 2 Axes>"
      ]
     },
     "metadata": {
      "needs_background": "light"
     },
     "output_type": "display_data"
    }
   ],
   "source": [
    "f, axes = plt.subplots(ncols=2, figsize=(15, 5))\n",
    "dataset.plot(ax=axes[0], y='n-characters', kind='hist', bins=100)\n",
    "dataset.plot(ax=axes[1], y='n-words', kind='hist', bins=100)"
   ]
  },
  {
   "cell_type": "markdown",
   "metadata": {},
   "source": [
    "## Binning the claps"
   ]
  },
  {
   "cell_type": "code",
   "execution_count": 7,
   "metadata": {},
   "outputs": [
    {
     "data": {
      "text/plain": [
       "binned-class\n",
       "0.0    1039\n",
       "1.0    1021\n",
       "2.0    1042\n",
       "3.0    1049\n",
       "4.0    1041\n",
       "Name: headline, dtype: int64"
      ]
     },
     "execution_count": 7,
     "metadata": {},
     "output_type": "execute_result"
    }
   ],
   "source": [
    "target = dataset.groupby('binned-class').count().loc[:, 'headline']\n",
    "target"
   ]
  },
  {
   "cell_type": "code",
   "execution_count": 8,
   "metadata": {},
   "outputs": [
    {
     "data": {
      "text/plain": [
       "<AxesSubplot:xlabel='binned-class'>"
      ]
     },
     "execution_count": 8,
     "metadata": {},
     "output_type": "execute_result"
    },
    {
     "data": {
      "image/png": "[encoded data removed]",
      "text/plain": [
       "<Figure size 432x288 with 1 Axes>"
      ]
     },
     "metadata": {
      "needs_background": "light"
     },
     "output_type": "display_data"
    }
   ],
   "source": [
    "target.plot(kind='bar')"
   ]
  },
  {
   "cell_type": "code",
   "execution_count": 9,
   "metadata": {},
   "outputs": [
    {
     "name": "stdout",
     "output_type": "stream",
     "text": [
      "label 0 ends at 312\n",
      "label 1 ends at 1000\n",
      "label 2 ends at 2400\n",
      "label 3 ends at 6200\n",
      "label 4 ends at 294000\n"
     ]
    }
   ],
   "source": [
    "edges = binner.bin_edges_\n",
    "for label, edge in enumerate(edges[0].flatten().tolist()[1:]):\n",
    "    print(f'label {label} ends at {int(edge)}')"
   ]
  },
  {
   "cell_type": "markdown",
   "metadata": {},
   "source": [
    "## How do claps change over time?"
   ]
  },
  {
   "cell_type": "code",
   "execution_count": 20,
   "metadata": {},
   "outputs": [
    {
     "data": {
      "text/plain": [
       "<AxesSubplot:xlabel='year'>"
      ]
     },
     "execution_count": 20,
     "metadata": {},
     "output_type": "execute_result"
    },
    {
     "data": {
      "image/png": "[encoded data removed]",
      "text/plain": [
       "<Figure size 432x288 with 1 Axes>"
      ]
     },
     "metadata": {
      "needs_background": "light"
     },
     "output_type": "display_data"
    }
   ],
   "source": [
    "years = dataset.groupby('year').agg({'claps': ['median', 'mean']})\n",
    "years.columns = years.columns.get_level_values(1)\n",
    "years.plot(kind='bar', y='median')"
   ]
  },
  {
   "cell_type": "code",
   "execution_count": 22,
   "metadata": {},
   "outputs": [
    {
     "data": {
      "text/plain": [
       "<AxesSubplot:xlabel='month'>"
      ]
     },
     "execution_count": 22,
     "metadata": {},
     "output_type": "execute_result"
    },
    {
     "data": {
      "image/png": "[encoded data removed]",
      "text/plain": [
       "<Figure size 432x288 with 1 Axes>"
      ]
     },
     "metadata": {
      "needs_background": "light"
     },
     "output_type": "display_data"
    }
   ],
   "source": [
    "months = dataset.groupby('month').agg({'claps': ['median', 'mean']})\n",
    "months.columns = months.columns.get_level_values(1)\n",
    "months.plot(kind='bar', y='median')"
   ]
  },
  {
   "cell_type": "markdown",
   "metadata": {},
   "source": [
    "## By site"
   ]
  },
  {
   "cell_type": "code",
   "execution_count": 12,
   "metadata": {},
   "outputs": [
    {
     "data": {
      "text/html": [
       "<div>\n",
       "<style scoped>\n",
       "    .dataframe tbody tr th:only-of-type {\n",
       "        vertical-align: middle;\n",
       "    }\n",
       "\n",
       "    .dataframe tbody tr th {\n",
       "        vertical-align: top;\n",
       "    }\n",
       "\n",
       "    .dataframe thead th {\n",
       "        text-align: right;\n",
       "    }\n",
       "</style>\n",
       "<table border=\"1\" class=\"dataframe\">\n",
       "  <thead>\n",
       "    <tr style=\"text-align: right;\">\n",
       "      <th></th>\n",
       "      <th>median</th>\n",
       "      <th>mean</th>\n",
       "      <th>count</th>\n",
       "    </tr>\n",
       "    <tr>\n",
       "      <th>site_id</th>\n",
       "      <th></th>\n",
       "      <th></th>\n",
       "      <th></th>\n",
       "    </tr>\n",
       "  </thead>\n",
       "  <tbody>\n",
       "    <tr>\n",
       "      <th>level-up-web</th>\n",
       "      <td>172.0</td>\n",
       "      <td>329.000000</td>\n",
       "      <td>367</td>\n",
       "    </tr>\n",
       "    <tr>\n",
       "      <th>dailyjs</th>\n",
       "      <td>482.0</td>\n",
       "      <td>979.874552</td>\n",
       "      <td>279</td>\n",
       "    </tr>\n",
       "    <tr>\n",
       "      <th>levelup</th>\n",
       "      <td>699.0</td>\n",
       "      <td>1353.288360</td>\n",
       "      <td>378</td>\n",
       "    </tr>\n",
       "    <tr>\n",
       "      <th>writingcooperative</th>\n",
       "      <td>809.0</td>\n",
       "      <td>1756.051613</td>\n",
       "      <td>465</td>\n",
       "    </tr>\n",
       "    <tr>\n",
       "      <th>the-ascent</th>\n",
       "      <td>1000.0</td>\n",
       "      <td>3192.307527</td>\n",
       "      <td>465</td>\n",
       "    </tr>\n",
       "    <tr>\n",
       "      <th>the-mission</th>\n",
       "      <td>1300.0</td>\n",
       "      <td>5387.320106</td>\n",
       "      <td>378</td>\n",
       "    </tr>\n",
       "    <tr>\n",
       "      <th>better-programming</th>\n",
       "      <td>1500.0</td>\n",
       "      <td>3278.588235</td>\n",
       "      <td>408</td>\n",
       "    </tr>\n",
       "    <tr>\n",
       "      <th>better-humans</th>\n",
       "      <td>1650.0</td>\n",
       "      <td>3511.771111</td>\n",
       "      <td>450</td>\n",
       "    </tr>\n",
       "    <tr>\n",
       "      <th>hackernoon</th>\n",
       "      <td>2500.0</td>\n",
       "      <td>7414.666667</td>\n",
       "      <td>357</td>\n",
       "    </tr>\n",
       "    <tr>\n",
       "      <th>towardsdatascience</th>\n",
       "      <td>2900.0</td>\n",
       "      <td>4403.436937</td>\n",
       "      <td>444</td>\n",
       "    </tr>\n",
       "    <tr>\n",
       "      <th>swlh</th>\n",
       "      <td>3000.0</td>\n",
       "      <td>7304.013333</td>\n",
       "      <td>450</td>\n",
       "    </tr>\n",
       "    <tr>\n",
       "      <th>personal-growth</th>\n",
       "      <td>5000.0</td>\n",
       "      <td>9586.556277</td>\n",
       "      <td>462</td>\n",
       "    </tr>\n",
       "    <tr>\n",
       "      <th>free-code-camp</th>\n",
       "      <td>8500.0</td>\n",
       "      <td>14083.252595</td>\n",
       "      <td>289</td>\n",
       "    </tr>\n",
       "  </tbody>\n",
       "</table>\n",
       "</div>"
      ],
      "text/plain": [
       "                    median          mean  count\n",
       "site_id                                        \n",
       "level-up-web         172.0    329.000000    367\n",
       "dailyjs              482.0    979.874552    279\n",
       "levelup              699.0   1353.288360    378\n",
       "writingcooperative   809.0   1756.051613    465\n",
       "the-ascent          1000.0   3192.307527    465\n",
       "the-mission         1300.0   5387.320106    378\n",
       "better-programming  1500.0   3278.588235    408\n",
       "better-humans       1650.0   3511.771111    450\n",
       "hackernoon          2500.0   7414.666667    357\n",
       "towardsdatascience  2900.0   4403.436937    444\n",
       "swlh                3000.0   7304.013333    450\n",
       "personal-growth     5000.0   9586.556277    462\n",
       "free-code-camp      8500.0  14083.252595    289"
      ]
     },
     "execution_count": 12,
     "metadata": {},
     "output_type": "execute_result"
    }
   ],
   "source": [
    "sites = dataset.groupby('site_id').agg({'claps': ['median', 'mean', 'count']})\n",
    "sites.columns = sites.columns.get_level_values(1)\n",
    "sites.sort_values('median')"
   ]
  },
  {
   "cell_type": "markdown",
   "metadata": {},
   "source": [
    "## By site and year"
   ]
  },
  {
   "cell_type": "code",
   "execution_count": 13,
   "metadata": {},
   "outputs": [
    {
     "data": {
      "image/png": "[encoded data removed]",
      "text/plain": [
       "<Figure size 1080x432 with 14 Axes>"
      ]
     },
     "metadata": {
      "needs_background": "light"
     },
     "output_type": "display_data"
    }
   ],
   "source": [
    "from math import ceil\n",
    "\n",
    "sites = list(set(dataset['site_id']))\n",
    "f, axes = plt.subplots(ncols=2, nrows=ceil(len(sites) / 2), sharex=True, sharey=True, figsize=(15, 6))\n",
    "\n",
    "for site, ax in zip(sites, axes.flatten()):\n",
    "    mask = dataset.loc[:, 'site_id'] == site\n",
    "    subset = dataset.loc[mask, :]\n",
    "    grp = subset.groupby('year').agg({'claps': 'median'})\n",
    "    grp.plot(ax=ax, kind='bar')\n",
    "    ax.get_legend().remove()\n",
    "    ax.set_title(site, loc='right', y=0.7)"
   ]
  },
  {
   "cell_type": "markdown",
   "metadata": {},
   "source": [
    "## Headline features"
   ]
  },
  {
   "cell_type": "code",
   "execution_count": 14,
   "metadata": {},
   "outputs": [
    {
     "name": "stdout",
     "output_type": "stream",
     "text": [
      "(5192, 6139)\n"
     ]
    }
   ],
   "source": [
    "from sklearn.feature_extraction.text import TfidfVectorizer, CountVectorizer\n",
    "\n",
    "vec = CountVectorizer()\n",
    "x = vec.fit_transform(dataset['headline'])\n",
    "x = x.todense()\n",
    "print(x.shape)"
   ]
  },
  {
   "cell_type": "code",
   "execution_count": 15,
   "metadata": {},
   "outputs": [],
   "source": [
    "names = np.array(vec.get_feature_names())\n",
    "counts = np.squeeze(np.array(x.sum(axis=0)))"
   ]
  },
  {
   "cell_type": "code",
   "execution_count": 16,
   "metadata": {},
   "outputs": [
    {
     "data": {
      "text/plain": [
       "array([ 37,   2,   1,   8, 171,  24,   4,   1,   1,   2])"
      ]
     },
     "execution_count": 16,
     "metadata": {},
     "output_type": "execute_result"
    }
   ],
   "source": [
    "counts[:10]"
   ]
  },
  {
   "cell_type": "code",
   "execution_count": 17,
   "metadata": {},
   "outputs": [],
   "source": [
    "sort_idx = np.squeeze(np.array(counts.argsort()))"
   ]
  },
  {
   "cell_type": "code",
   "execution_count": 18,
   "metadata": {},
   "outputs": [
    {
     "data": {
      "text/plain": [
       "array([ 149,  149,  149,  152,  152,  156,  158,  171,  171,  171,  179,\n",
       "        210,  212,  218,  234,  234,  241,  251,  260,  264,  280,  352,\n",
       "        502,  564,  678,  716,  746,  854,  884, 1165, 1261, 2158])"
      ]
     },
     "execution_count": 18,
     "metadata": {},
     "output_type": "execute_result"
    }
   ],
   "source": [
    "counts[sort_idx][-32:]"
   ]
  },
  {
   "cell_type": "code",
   "execution_count": 19,
   "metadata": {},
   "outputs": [
    {
     "data": {
      "text/plain": [
       "array(['can', 'should', 'things', 'best', 'learning', 'do', 'using', '10',\n",
       "       'python', 'javascript', 'guide', 'my', 'an', 'from', 'that', 'on',\n",
       "       'life', 'writing', 'what', 'react', 'why', 'is', 'with', 'for',\n",
       "       'of', 'you', 'your', 'in', 'and', 'how', 'the', 'to'], dtype='<U43')"
      ]
     },
     "execution_count": 19,
     "metadata": {},
     "output_type": "execute_result"
    }
   ],
   "source": [
    "names[sort_idx][-32:]"
   ]
  },
  {
   "cell_type": "code",
   "execution_count": null,
   "metadata": {},
   "outputs": [],
   "source": []
  },
  {
   "cell_type": "code",
   "execution_count": null,
   "metadata": {},
   "outputs": [],
   "source": []
  }
 ],
 "metadata": {
  "kernelspec": {
   "display_name": "Python 3",
   "language": "python",
   "name": "python3"
  },
  "language_info": {
   "codemirror_mode": {
    "name": "ipython",
    "version": 3
   },
   "file_extension": ".py",
   "mimetype": "text/x-python",
   "name": "python",
   "nbconvert_exporter": "python",
   "pygments_lexer": "ipython3",
   "version": "3.7.6"
  }
 },
 "nbformat": 4,
 "nbformat_minor": 4
}
