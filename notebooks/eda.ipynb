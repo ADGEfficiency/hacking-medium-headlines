{
 "cells": [
  {
   "cell_type": "code",
   "execution_count": 1,
   "metadata": {},
   "outputs": [
    {
     "name": "stdout",
     "output_type": "stream",
     "text": [
      "dropping 755 duplicates\n",
      "dropping 1135 rows for 2017 year start\n",
      "ds shape: (3737, 5)\n"
     ]
    }
   ],
   "source": [
    "from src.ml import *\n",
    "\n",
    "dataset = process_raw_data(year_start=2017)\n",
    "dataset = create_features(dataset)"
   ]
  },
  {
   "cell_type": "code",
   "execution_count": 2,
   "metadata": {},
   "outputs": [
    {
     "data": {
      "text/html": [
       "<div>\n",
       "<style scoped>\n",
       "    .dataframe tbody tr th:only-of-type {\n",
       "        vertical-align: middle;\n",
       "    }\n",
       "\n",
       "    .dataframe tbody tr th {\n",
       "        vertical-align: top;\n",
       "    }\n",
       "\n",
       "    .dataframe thead th {\n",
       "        text-align: right;\n",
       "    }\n",
       "</style>\n",
       "<table border=\"1\" class=\"dataframe\">\n",
       "  <thead>\n",
       "    <tr style=\"text-align: right;\">\n",
       "      <th></th>\n",
       "      <th>headline</th>\n",
       "      <th>claps</th>\n",
       "      <th>site_id</th>\n",
       "      <th>year</th>\n",
       "      <th>site</th>\n",
       "      <th>binned-class</th>\n",
       "      <th>log-claps</th>\n",
       "      <th>clip-claps</th>\n",
       "      <th>n-characters</th>\n",
       "      <th>n-words</th>\n",
       "    </tr>\n",
       "  </thead>\n",
       "  <tbody>\n",
       "    <tr>\n",
       "      <th>0</th>\n",
       "      <td>Install Tensorflow 1.13 on Ubuntu 18.04 with G...</td>\n",
       "      <td>588.0</td>\n",
       "      <td>better-programming</td>\n",
       "      <td>2019</td>\n",
       "      <td>better-programming</td>\n",
       "      <td>1.0</td>\n",
       "      <td>6.376727</td>\n",
       "      <td>588.0</td>\n",
       "      <td>56</td>\n",
       "      <td>9</td>\n",
       "    </tr>\n",
       "    <tr>\n",
       "      <th>1</th>\n",
       "      <td>Authentication and Authorization using JWT wit...</td>\n",
       "      <td>1300.0</td>\n",
       "      <td>better-programming</td>\n",
       "      <td>2019</td>\n",
       "      <td>better-programming</td>\n",
       "      <td>1.0</td>\n",
       "      <td>7.170120</td>\n",
       "      <td>1300.0</td>\n",
       "      <td>55</td>\n",
       "      <td>7</td>\n",
       "    </tr>\n",
       "    <tr>\n",
       "      <th>2</th>\n",
       "      <td>Authentication and Authorization using Redis</td>\n",
       "      <td>1300.0</td>\n",
       "      <td>better-programming</td>\n",
       "      <td>2019</td>\n",
       "      <td>better-programming</td>\n",
       "      <td>1.0</td>\n",
       "      <td>7.170120</td>\n",
       "      <td>1300.0</td>\n",
       "      <td>44</td>\n",
       "      <td>5</td>\n",
       "    </tr>\n",
       "    <tr>\n",
       "      <th>3</th>\n",
       "      <td>Linux: A Survival Guide for Beginners</td>\n",
       "      <td>1100.0</td>\n",
       "      <td>better-programming</td>\n",
       "      <td>2019</td>\n",
       "      <td>better-programming</td>\n",
       "      <td>1.0</td>\n",
       "      <td>7.003065</td>\n",
       "      <td>1100.0</td>\n",
       "      <td>37</td>\n",
       "      <td>6</td>\n",
       "    </tr>\n",
       "    <tr>\n",
       "      <th>4</th>\n",
       "      <td>How To Properly Use the React useRef Hook in C...</td>\n",
       "      <td>295.0</td>\n",
       "      <td>better-programming</td>\n",
       "      <td>2019</td>\n",
       "      <td>better-programming</td>\n",
       "      <td>0.0</td>\n",
       "      <td>5.686975</td>\n",
       "      <td>295.0</td>\n",
       "      <td>60</td>\n",
       "      <td>11</td>\n",
       "    </tr>\n",
       "  </tbody>\n",
       "</table>\n",
       "</div>"
      ],
      "text/plain": [
       "                                            headline   claps             site_id  year                site  binned-class  log-claps  clip-claps  n-characters  n-words\n",
       "0  Install Tensorflow 1.13 on Ubuntu 18.04 with G...   588.0  better-programming  2019  better-programming           1.0   6.376727       588.0            56        9\n",
       "1  Authentication and Authorization using JWT wit...  1300.0  better-programming  2019  better-programming           1.0   7.170120      1300.0            55        7\n",
       "2       Authentication and Authorization using Redis  1300.0  better-programming  2019  better-programming           1.0   7.170120      1300.0            44        5\n",
       "3              Linux: A Survival Guide for Beginners  1100.0  better-programming  2019  better-programming           1.0   7.003065      1100.0            37        6\n",
       "4  How To Properly Use the React useRef Hook in C...   295.0  better-programming  2019  better-programming           0.0   5.686975       295.0            60       11"
      ]
     },
     "execution_count": 2,
     "metadata": {},
     "output_type": "execute_result"
    }
   ],
   "source": [
    "dataset.head()"
   ]
  },
  {
   "cell_type": "code",
   "execution_count": 27,
   "metadata": {},
   "outputs": [
    {
     "data": {
      "text/plain": [
       "0       2959.887755\n",
       "1       2959.887755\n",
       "2       2959.887755\n",
       "3       2959.887755\n",
       "4       2959.887755\n",
       "           ...     \n",
       "5612    5380.182058\n",
       "5613    5380.182058\n",
       "5614    5380.182058\n",
       "5615    5380.182058\n",
       "5616    5380.182058\n",
       "Name: site_id, Length: 3737, dtype: float64"
      ]
     },
     "execution_count": 27,
     "metadata": {},
     "output_type": "execute_result"
    }
   ],
   "source": [
    "grps = dataset.groupby('site_id').mean().loc[:, 'claps'].to_frame()\n",
    "grps = grps.to_dict()['claps']\n",
    "\n",
    "dataset.loc[:, 'site_id'].replace(grps)"
   ]
  },
  {
   "cell_type": "code",
   "execution_count": null,
   "metadata": {},
   "outputs": [],
   "source": []
  },
  {
   "cell_type": "code",
   "execution_count": 4,
   "metadata": {},
   "outputs": [
    {
     "data": {
      "text/html": [
       "<div>\n",
       "<style scoped>\n",
       "    .dataframe tbody tr th:only-of-type {\n",
       "        vertical-align: middle;\n",
       "    }\n",
       "\n",
       "    .dataframe tbody tr th {\n",
       "        vertical-align: top;\n",
       "    }\n",
       "\n",
       "    .dataframe thead th {\n",
       "        text-align: right;\n",
       "    }\n",
       "</style>\n",
       "<table border=\"1\" class=\"dataframe\">\n",
       "  <thead>\n",
       "    <tr style=\"text-align: right;\">\n",
       "      <th></th>\n",
       "      <th>headline</th>\n",
       "      <th>claps</th>\n",
       "      <th>site_id</th>\n",
       "      <th>year</th>\n",
       "      <th>site</th>\n",
       "      <th>binned-class</th>\n",
       "      <th>log-claps</th>\n",
       "      <th>clip-claps</th>\n",
       "      <th>n-characters</th>\n",
       "      <th>n-words</th>\n",
       "    </tr>\n",
       "  </thead>\n",
       "  <tbody>\n",
       "    <tr>\n",
       "      <th>3497</th>\n",
       "      <td>The Most Important Skill Nobody Taught You</td>\n",
       "      <td>294000.0</td>\n",
       "      <td>personal-growth</td>\n",
       "      <td>2018</td>\n",
       "      <td>personal-growth</td>\n",
       "      <td>3.0</td>\n",
       "      <td>12.591335</td>\n",
       "      <td>80000.0</td>\n",
       "      <td>42</td>\n",
       "      <td>7</td>\n",
       "    </tr>\n",
       "    <tr>\n",
       "      <th>3210</th>\n",
       "      <td>Travel Is No Cure for the Mind</td>\n",
       "      <td>271000.0</td>\n",
       "      <td>personal-growth</td>\n",
       "      <td>2018</td>\n",
       "      <td>personal-growth</td>\n",
       "      <td>3.0</td>\n",
       "      <td>12.509874</td>\n",
       "      <td>80000.0</td>\n",
       "      <td>30</td>\n",
       "      <td>7</td>\n",
       "    </tr>\n",
       "    <tr>\n",
       "      <th>3211</th>\n",
       "      <td>The 3 Keys to Becoming Irresistible</td>\n",
       "      <td>238000.0</td>\n",
       "      <td>personal-growth</td>\n",
       "      <td>2018</td>\n",
       "      <td>personal-growth</td>\n",
       "      <td>3.0</td>\n",
       "      <td>12.380026</td>\n",
       "      <td>80000.0</td>\n",
       "      <td>35</td>\n",
       "      <td>6</td>\n",
       "    </tr>\n",
       "    <tr>\n",
       "      <th>534</th>\n",
       "      <td>Im harvesting credit card numbers and password...</td>\n",
       "      <td>226000.0</td>\n",
       "      <td>hackernoon</td>\n",
       "      <td>2018</td>\n",
       "      <td>hackernoon</td>\n",
       "      <td>3.0</td>\n",
       "      <td>12.328290</td>\n",
       "      <td>80000.0</td>\n",
       "      <td>74</td>\n",
       "      <td>12</td>\n",
       "    </tr>\n",
       "    <tr>\n",
       "      <th>1696</th>\n",
       "      <td>How to think like a programmerlessons in probl...</td>\n",
       "      <td>210000.0</td>\n",
       "      <td>free-code-camp</td>\n",
       "      <td>2018</td>\n",
       "      <td>free-code-camp</td>\n",
       "      <td>3.0</td>\n",
       "      <td>12.254863</td>\n",
       "      <td>80000.0</td>\n",
       "      <td>56</td>\n",
       "      <td>9</td>\n",
       "    </tr>\n",
       "    <tr>\n",
       "      <th>...</th>\n",
       "      <td>...</td>\n",
       "      <td>...</td>\n",
       "      <td>...</td>\n",
       "      <td>...</td>\n",
       "      <td>...</td>\n",
       "      <td>...</td>\n",
       "      <td>...</td>\n",
       "      <td>...</td>\n",
       "      <td>...</td>\n",
       "      <td>...</td>\n",
       "    </tr>\n",
       "    <tr>\n",
       "      <th>3822</th>\n",
       "      <td>Featured Articles (October 2531)</td>\n",
       "      <td>1.0</td>\n",
       "      <td>personal-growth</td>\n",
       "      <td>2020</td>\n",
       "      <td>personal-growth</td>\n",
       "      <td>0.0</td>\n",
       "      <td>0.000000</td>\n",
       "      <td>1.0</td>\n",
       "      <td>32</td>\n",
       "      <td>4</td>\n",
       "    </tr>\n",
       "    <tr>\n",
       "      <th>856</th>\n",
       "      <td>Five Tech Stories</td>\n",
       "      <td>1.0</td>\n",
       "      <td>hackernoon</td>\n",
       "      <td>2020</td>\n",
       "      <td>hackernoon</td>\n",
       "      <td>0.0</td>\n",
       "      <td>0.000000</td>\n",
       "      <td>1.0</td>\n",
       "      <td>17</td>\n",
       "      <td>3</td>\n",
       "    </tr>\n",
       "    <tr>\n",
       "      <th>833</th>\n",
       "      <td>AMA with Rana Gujral, CEO of Behavioral Signal...</td>\n",
       "      <td>1.0</td>\n",
       "      <td>hackernoon</td>\n",
       "      <td>2020</td>\n",
       "      <td>hackernoon</td>\n",
       "      <td>0.0</td>\n",
       "      <td>0.000000</td>\n",
       "      <td>1.0</td>\n",
       "      <td>96</td>\n",
       "      <td>17</td>\n",
       "    </tr>\n",
       "    <tr>\n",
       "      <th>831</th>\n",
       "      <td>Emoji Reactions</td>\n",
       "      <td>1.0</td>\n",
       "      <td>hackernoon</td>\n",
       "      <td>2020</td>\n",
       "      <td>hackernoon</td>\n",
       "      <td>0.0</td>\n",
       "      <td>0.000000</td>\n",
       "      <td>1.0</td>\n",
       "      <td>17</td>\n",
       "      <td>4</td>\n",
       "    </tr>\n",
       "    <tr>\n",
       "      <th>739</th>\n",
       "      <td>Demystifying Seth Godins message on  a year fr...</td>\n",
       "      <td>1.0</td>\n",
       "      <td>hackernoon</td>\n",
       "      <td>2019</td>\n",
       "      <td>hackernoon</td>\n",
       "      <td>0.0</td>\n",
       "      <td>0.000000</td>\n",
       "      <td>1.0</td>\n",
       "      <td>54</td>\n",
       "      <td>10</td>\n",
       "    </tr>\n",
       "  </tbody>\n",
       "</table>\n",
       "<p>3737 rows × 10 columns</p>\n",
       "</div>"
      ],
      "text/plain": [
       "                                               headline     claps          site_id  year             site  binned-class  log-claps  clip-claps  n-characters  n-words\n",
       "3497         The Most Important Skill Nobody Taught You  294000.0  personal-growth  2018  personal-growth           3.0  12.591335     80000.0            42        7\n",
       "3210                     Travel Is No Cure for the Mind  271000.0  personal-growth  2018  personal-growth           3.0  12.509874     80000.0            30        7\n",
       "3211                The 3 Keys to Becoming Irresistible  238000.0  personal-growth  2018  personal-growth           3.0  12.380026     80000.0            35        6\n",
       "534   Im harvesting credit card numbers and password...  226000.0       hackernoon  2018       hackernoon           3.0  12.328290     80000.0            74       12\n",
       "1696  How to think like a programmerlessons in probl...  210000.0   free-code-camp  2018   free-code-camp           3.0  12.254863     80000.0            56        9\n",
       "...                                                 ...       ...              ...   ...              ...           ...        ...         ...           ...      ...\n",
       "3822                   Featured Articles (October 2531)       1.0  personal-growth  2020  personal-growth           0.0   0.000000         1.0            32        4\n",
       "856                                   Five Tech Stories       1.0       hackernoon  2020       hackernoon           0.0   0.000000         1.0            17        3\n",
       "833   AMA with Rana Gujral, CEO of Behavioral Signal...       1.0       hackernoon  2020       hackernoon           0.0   0.000000         1.0            96       17\n",
       "831                                    Emoji Reactions        1.0       hackernoon  2020       hackernoon           0.0   0.000000         1.0            17        4\n",
       "739   Demystifying Seth Godins message on  a year fr...       1.0       hackernoon  2019       hackernoon           0.0   0.000000         1.0            54       10\n",
       "\n",
       "[3737 rows x 10 columns]"
      ]
     },
     "execution_count": 4,
     "metadata": {},
     "output_type": "execute_result"
    }
   ],
   "source": [
    "dataset.sort_values('claps', ascending=False)"
   ]
  },
  {
   "cell_type": "markdown",
   "metadata": {},
   "source": [
    "## Clap statistics"
   ]
  },
  {
   "cell_type": "code",
   "execution_count": 5,
   "metadata": {},
   "outputs": [
    {
     "data": {
      "text/plain": [
       "count      3737.000000\n",
       "mean       5537.296227\n",
       "std       13656.285019\n",
       "min           1.000000\n",
       "25%         473.000000\n",
       "50%        1800.000000\n",
       "75%        5800.000000\n",
       "max      294000.000000\n",
       "Name: claps, dtype: float64"
      ]
     },
     "execution_count": 5,
     "metadata": {},
     "output_type": "execute_result"
    }
   ],
   "source": [
    "dataset['claps'].describe()"
   ]
  },
  {
   "cell_type": "markdown",
   "metadata": {},
   "source": [
    "## Distribution of claps"
   ]
  },
  {
   "cell_type": "code",
   "execution_count": 6,
   "metadata": {},
   "outputs": [
    {
     "data": {
      "text/plain": [
       "<AxesSubplot:ylabel='Frequency'>"
      ]
     },
     "execution_count": 6,
     "metadata": {},
     "output_type": "execute_result"
    },
    {
     "data": {
      "image/png": "[encoded data removed]",
      "text/plain": [
       "<Figure size 432x288 with 1 Axes>"
      ]
     },
     "metadata": {
      "needs_background": "light"
     },
     "output_type": "display_data"
    }
   ],
   "source": [
    "dataset.plot(y='claps', kind='hist', bins=100)"
   ]
  },
  {
   "cell_type": "markdown",
   "metadata": {},
   "source": [
    "## Distribution of clipped claps"
   ]
  },
  {
   "cell_type": "code",
   "execution_count": 7,
   "metadata": {},
   "outputs": [
    {
     "data": {
      "text/plain": [
       "<AxesSubplot:ylabel='Frequency'>"
      ]
     },
     "execution_count": 7,
     "metadata": {},
     "output_type": "execute_result"
    },
    {
     "data": {
      "image/png": "[encoded data removed]",
      "text/plain": [
       "<Figure size 432x288 with 1 Axes>"
      ]
     },
     "metadata": {
      "needs_background": "light"
     },
     "output_type": "display_data"
    }
   ],
   "source": [
    "dataset.plot(y='clip-claps', kind='hist')"
   ]
  },
  {
   "cell_type": "markdown",
   "metadata": {},
   "source": [
    "## Distribution of log claps"
   ]
  },
  {
   "cell_type": "code",
   "execution_count": 8,
   "metadata": {},
   "outputs": [
    {
     "data": {
      "text/plain": [
       "<AxesSubplot:ylabel='Frequency'>"
      ]
     },
     "execution_count": 8,
     "metadata": {},
     "output_type": "execute_result"
    },
    {
     "data": {
      "image/png": "[encoded data removed]",
      "text/plain": [
       "<Figure size 432x288 with 1 Axes>"
      ]
     },
     "metadata": {
      "needs_background": "light"
     },
     "output_type": "display_data"
    }
   ],
   "source": [
    "dataset.plot(y='log-claps', kind='hist', bins=100)"
   ]
  },
  {
   "cell_type": "code",
   "execution_count": 9,
   "metadata": {},
   "outputs": [
    {
     "data": {
      "text/plain": [
       "<AxesSubplot:ylabel='Frequency'>"
      ]
     },
     "execution_count": 9,
     "metadata": {},
     "output_type": "execute_result"
    },
    {
     "data": {
      "image/png": "[encoded data removed]",
      "text/plain": [
       "<Figure size 1080x360 with 2 Axes>"
      ]
     },
     "metadata": {
      "needs_background": "light"
     },
     "output_type": "display_data"
    }
   ],
   "source": [
    "f, axes = plt.subplots(ncols=2, figsize=(15, 5))\n",
    "dataset.plot(ax=axes[0], y='n-characters', kind='hist', bins=100)\n",
    "dataset.plot(ax=axes[1], y='n-words', kind='hist', bins=100)"
   ]
  },
  {
   "cell_type": "markdown",
   "metadata": {},
   "source": [
    "## Binning the claps"
   ]
  },
  {
   "cell_type": "code",
   "execution_count": 10,
   "metadata": {},
   "outputs": [
    {
     "data": {
      "text/plain": [
       "binned-class\n",
       "0.0    934\n",
       "1.0    917\n",
       "2.0    943\n",
       "3.0    943\n",
       "Name: headline, dtype: int64"
      ]
     },
     "execution_count": 10,
     "metadata": {},
     "output_type": "execute_result"
    }
   ],
   "source": [
    "target = dataset.groupby('binned-class').count().loc[:, 'headline']\n",
    "target"
   ]
  },
  {
   "cell_type": "code",
   "execution_count": 11,
   "metadata": {},
   "outputs": [
    {
     "data": {
      "text/plain": [
       "<AxesSubplot:xlabel='binned-class'>"
      ]
     },
     "execution_count": 11,
     "metadata": {},
     "output_type": "execute_result"
    },
    {
     "data": {
      "image/png": "[encoded data removed]",
      "text/plain": [
       "<Figure size 432x288 with 1 Axes>"
      ]
     },
     "metadata": {
      "needs_background": "light"
     },
     "output_type": "display_data"
    }
   ],
   "source": [
    "target.plot(kind='bar')"
   ]
  },
  {
   "cell_type": "markdown",
   "metadata": {},
   "source": [
    "## How do claps change over time?"
   ]
  },
  {
   "cell_type": "code",
   "execution_count": 12,
   "metadata": {},
   "outputs": [
    {
     "data": {
      "text/html": [
       "<div>\n",
       "<style scoped>\n",
       "    .dataframe tbody tr th:only-of-type {\n",
       "        vertical-align: middle;\n",
       "    }\n",
       "\n",
       "    .dataframe tbody tr th {\n",
       "        vertical-align: top;\n",
       "    }\n",
       "\n",
       "    .dataframe thead th {\n",
       "        text-align: right;\n",
       "    }\n",
       "</style>\n",
       "<table border=\"1\" class=\"dataframe\">\n",
       "  <thead>\n",
       "    <tr style=\"text-align: right;\">\n",
       "      <th></th>\n",
       "      <th>median</th>\n",
       "      <th>mean</th>\n",
       "    </tr>\n",
       "    <tr>\n",
       "      <th>year</th>\n",
       "      <th></th>\n",
       "      <th></th>\n",
       "    </tr>\n",
       "  </thead>\n",
       "  <tbody>\n",
       "    <tr>\n",
       "      <th>2017</th>\n",
       "      <td>1930.0</td>\n",
       "      <td>5475.133259</td>\n",
       "    </tr>\n",
       "    <tr>\n",
       "      <th>2018</th>\n",
       "      <td>3400.0</td>\n",
       "      <td>9211.110384</td>\n",
       "    </tr>\n",
       "    <tr>\n",
       "      <th>2019</th>\n",
       "      <td>1300.0</td>\n",
       "      <td>3371.572844</td>\n",
       "    </tr>\n",
       "    <tr>\n",
       "      <th>2020</th>\n",
       "      <td>1200.0</td>\n",
       "      <td>3335.493473</td>\n",
       "    </tr>\n",
       "  </tbody>\n",
       "</table>\n",
       "</div>"
      ],
      "text/plain": [
       "      median         mean\n",
       "year                     \n",
       "2017  1930.0  5475.133259\n",
       "2018  3400.0  9211.110384\n",
       "2019  1300.0  3371.572844\n",
       "2020  1200.0  3335.493473"
      ]
     },
     "execution_count": 12,
     "metadata": {},
     "output_type": "execute_result"
    }
   ],
   "source": [
    "years = dataset.groupby('year').agg({'claps': ['median', 'mean']})\n",
    "years.columns = years.columns.get_level_values(1)\n",
    "years"
   ]
  },
  {
   "cell_type": "code",
   "execution_count": 13,
   "metadata": {},
   "outputs": [
    {
     "data": {
      "text/plain": [
       "<AxesSubplot:xlabel='year'>"
      ]
     },
     "execution_count": 13,
     "metadata": {},
     "output_type": "execute_result"
    },
    {
     "data": {
      "image/png": "[encoded data removed]",
      "text/plain": [
       "<Figure size 432x288 with 1 Axes>"
      ]
     },
     "metadata": {
      "needs_background": "light"
     },
     "output_type": "display_data"
    }
   ],
   "source": [
    "years.plot(kind='bar', y='median')"
   ]
  },
  {
   "cell_type": "markdown",
   "metadata": {},
   "source": [
    "## By site"
   ]
  },
  {
   "cell_type": "code",
   "execution_count": 14,
   "metadata": {},
   "outputs": [
    {
     "data": {
      "text/html": [
       "<div>\n",
       "<style scoped>\n",
       "    .dataframe tbody tr th:only-of-type {\n",
       "        vertical-align: middle;\n",
       "    }\n",
       "\n",
       "    .dataframe tbody tr th {\n",
       "        vertical-align: top;\n",
       "    }\n",
       "\n",
       "    .dataframe thead th {\n",
       "        text-align: right;\n",
       "    }\n",
       "</style>\n",
       "<table border=\"1\" class=\"dataframe\">\n",
       "  <thead>\n",
       "    <tr style=\"text-align: right;\">\n",
       "      <th></th>\n",
       "      <th>median</th>\n",
       "      <th>mean</th>\n",
       "    </tr>\n",
       "    <tr>\n",
       "      <th>site_id</th>\n",
       "      <th></th>\n",
       "      <th></th>\n",
       "    </tr>\n",
       "  </thead>\n",
       "  <tbody>\n",
       "    <tr>\n",
       "      <th>better-programming</th>\n",
       "      <td>1600.0</td>\n",
       "      <td>2959.887755</td>\n",
       "    </tr>\n",
       "    <tr>\n",
       "      <th>dailyjs</th>\n",
       "      <td>503.0</td>\n",
       "      <td>1399.757785</td>\n",
       "    </tr>\n",
       "    <tr>\n",
       "      <th>free-code-camp</th>\n",
       "      <td>8700.0</td>\n",
       "      <td>14791.050847</td>\n",
       "    </tr>\n",
       "    <tr>\n",
       "      <th>hackernoon</th>\n",
       "      <td>2400.0</td>\n",
       "      <td>7337.274238</td>\n",
       "    </tr>\n",
       "    <tr>\n",
       "      <th>level-up-web</th>\n",
       "      <td>174.0</td>\n",
       "      <td>393.182768</td>\n",
       "    </tr>\n",
       "    <tr>\n",
       "      <th>levelup</th>\n",
       "      <td>691.0</td>\n",
       "      <td>1329.846966</td>\n",
       "    </tr>\n",
       "    <tr>\n",
       "      <th>personal-growth</th>\n",
       "      <td>5000.0</td>\n",
       "      <td>9634.774403</td>\n",
       "    </tr>\n",
       "    <tr>\n",
       "      <th>swlh</th>\n",
       "      <td>3000.0</td>\n",
       "      <td>7320.485588</td>\n",
       "    </tr>\n",
       "    <tr>\n",
       "      <th>the-mission</th>\n",
       "      <td>1300.0</td>\n",
       "      <td>5380.182058</td>\n",
       "    </tr>\n",
       "    <tr>\n",
       "      <th>towardsdatascience</th>\n",
       "      <td>2900.0</td>\n",
       "      <td>4425.085393</td>\n",
       "    </tr>\n",
       "  </tbody>\n",
       "</table>\n",
       "</div>"
      ],
      "text/plain": [
       "                    median          mean\n",
       "site_id                                 \n",
       "better-programming  1600.0   2959.887755\n",
       "dailyjs              503.0   1399.757785\n",
       "free-code-camp      8700.0  14791.050847\n",
       "hackernoon          2400.0   7337.274238\n",
       "level-up-web         174.0    393.182768\n",
       "levelup              691.0   1329.846966\n",
       "personal-growth     5000.0   9634.774403\n",
       "swlh                3000.0   7320.485588\n",
       "the-mission         1300.0   5380.182058\n",
       "towardsdatascience  2900.0   4425.085393"
      ]
     },
     "execution_count": 14,
     "metadata": {},
     "output_type": "execute_result"
    }
   ],
   "source": [
    "sites = dataset.groupby('site_id').agg({'claps': ['median', 'mean']})\n",
    "sites.columns = sites.columns.get_level_values(1)\n",
    "sites"
   ]
  },
  {
   "cell_type": "markdown",
   "metadata": {},
   "source": [
    "## By site and year"
   ]
  },
  {
   "cell_type": "code",
   "execution_count": 15,
   "metadata": {},
   "outputs": [
    {
     "data": {
      "image/png": "[encoded data removed]",
      "text/plain": [
       "<Figure size 1080x432 with 10 Axes>"
      ]
     },
     "metadata": {
      "needs_background": "light"
     },
     "output_type": "display_data"
    }
   ],
   "source": [
    "from math import ceil\n",
    "\n",
    "sites = list(set(dataset['site_id']))\n",
    "f, axes = plt.subplots(ncols=2, nrows=ceil(len(sites) / 2), sharex=True, sharey=True, figsize=(15, 6))\n",
    "\n",
    "for site, ax in zip(sites, axes.flatten()):\n",
    "    mask = dataset.loc[:, 'site_id'] == site\n",
    "    subset = dataset.loc[mask, :]\n",
    "    grp = subset.groupby('year').agg({'claps': 'median'})\n",
    "    grp.plot(ax=ax, kind='bar')\n",
    "    ax.get_legend().remove()\n",
    "    ax.set_title(site, loc='right', y=0.7)"
   ]
  },
  {
   "cell_type": "markdown",
   "metadata": {},
   "source": [
    "## Headline features"
   ]
  },
  {
   "cell_type": "code",
   "execution_count": 16,
   "metadata": {},
   "outputs": [
    {
     "name": "stdout",
     "output_type": "stream",
     "text": [
      "(3737, 4891)\n"
     ]
    }
   ],
   "source": [
    "from sklearn.feature_extraction.text import TfidfVectorizer, CountVectorizer\n",
    "\n",
    "vec = CountVectorizer()\n",
    "x = vec.fit_transform(dataset['headline'])\n",
    "x = x.todense()\n",
    "print(x.shape)"
   ]
  },
  {
   "cell_type": "code",
   "execution_count": 17,
   "metadata": {},
   "outputs": [],
   "source": [
    "names = np.array(vec.get_feature_names())\n",
    "counts = np.squeeze(np.array(x.sum(axis=0)))"
   ]
  },
  {
   "cell_type": "code",
   "execution_count": 18,
   "metadata": {},
   "outputs": [
    {
     "data": {
      "text/plain": [
       "array([ 17,   1,   5, 124,  17,   1,   1,   1,   8,   1])"
      ]
     },
     "execution_count": 18,
     "metadata": {},
     "output_type": "execute_result"
    }
   ],
   "source": [
    "counts[:10]"
   ]
  },
  {
   "cell_type": "code",
   "execution_count": 19,
   "metadata": {},
   "outputs": [],
   "source": [
    "sort_idx = np.squeeze(np.array(counts.argsort()))"
   ]
  },
  {
   "cell_type": "code",
   "execution_count": 20,
   "metadata": {},
   "outputs": [
    {
     "data": {
      "text/plain": [
       "array([ 104,  107,  107,  109,  120,  124,  131,  131,  135,  137,  138,\n",
       "        138,  146,  151,  159,  160,  161,  166,  176,  205,  234,  256,\n",
       "        384,  409,  456,  478,  492,  628,  680,  691,  881, 1333])"
      ]
     },
     "execution_count": 20,
     "metadata": {},
     "output_type": "execute_result"
    }
   ],
   "source": [
    "counts[sort_idx][-32:]"
   ]
  },
  {
   "cell_type": "code",
   "execution_count": 21,
   "metadata": {},
   "outputs": [
    {
     "data": {
      "text/plain": [
       "array(['learn', 'js', 'web', 'app', 'should', '10', 'best', 'data',\n",
       "       'from', 'technical', 'life', 'using', 'learning', 'on', 'an',\n",
       "       'javascript', 'that', 'python', 'what', 'why', 'is', 'react',\n",
       "       'with', 'for', 'your', 'you', 'of', 'and', 'in', 'how', 'the',\n",
       "       'to'], dtype='<U43')"
      ]
     },
     "execution_count": 21,
     "metadata": {},
     "output_type": "execute_result"
    }
   ],
   "source": [
    "names[sort_idx][-32:]"
   ]
  },
  {
   "cell_type": "code",
   "execution_count": null,
   "metadata": {},
   "outputs": [],
   "source": []
  },
  {
   "cell_type": "code",
   "execution_count": null,
   "metadata": {},
   "outputs": [],
   "source": []
  }
 ],
 "metadata": {
  "kernelspec": {
   "display_name": "Python 3",
   "language": "python",
   "name": "python3"
  },
  "language_info": {
   "codemirror_mode": {
    "name": "ipython",
    "version": 3
   },
   "file_extension": ".py",
   "mimetype": "text/x-python",
   "name": "python",
   "nbconvert_exporter": "python",
   "pygments_lexer": "ipython3",
   "version": "3.7.6"
  }
 },
 "nbformat": 4,
 "nbformat_minor": 4
}
