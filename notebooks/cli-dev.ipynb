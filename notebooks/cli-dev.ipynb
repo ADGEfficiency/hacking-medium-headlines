{
 "cells": [
  {
   "cell_type": "code",
   "execution_count": 1,
   "metadata": {},
   "outputs": [],
   "source": [
    "# cli = 'Top Ten Python Tips'\n",
    "# print(cli)\n",
    "\n",
    "# cli = pd.DataFrame({\n",
    "#     'headline': cli,\n",
    "#     'claps': -1,\n",
    "#     'site_id': 'personal-growth',\n",
    "#     'year': -1,\n",
    "#     'site': 'hacker-daily'\n",
    "# }, index=[0])\n",
    "# cli = create_features(cli)\n",
    "\n",
    "# print(pipe.predict(cli))\n",
    "\n",
    "#is it better to use 6 or six\n",
    "\n",
    "#integrate with a thesarus"
   ]
  },
  {
   "cell_type": "code",
   "execution_count": 2,
   "metadata": {},
   "outputs": [
    {
     "data": {
      "text/plain": [
       "dict_keys(['x_ho', 'x_tr', 'y_ho', 'y_tr', 'x', 'y', 'pipe-tr', 'pipe-fi', 'params'])"
      ]
     },
     "execution_count": 2,
     "metadata": {},
     "output_type": "execute_result"
    }
   ],
   "source": [
    "from src.dirs import MODELHOME, DATAHOME\n",
    "from src.ml import to_dense, TargetEncoding\n",
    "from src.io import load_artifacts\n",
    "\n",
    "from joblib import load\n",
    "\n",
    "rf = load_artifacts(MODELHOME / 'final-rf')\n",
    "nb = load_artifacts(MODELHOME / 'final-naive')\n",
    "\n",
    "binner = load(DATAHOME / 'processed' / 'binner.joblib')\n",
    "rf.keys()"
   ]
  },
  {
   "cell_type": "code",
   "execution_count": null,
   "metadata": {},
   "outputs": [],
   "source": [
    "inp = 'Learn Pandas in These Three Quick Steps'"
   ]
  }
 ],
 "metadata": {
  "kernelspec": {
   "display_name": "Python 3",
   "language": "python",
   "name": "python3"
  },
  "language_info": {
   "codemirror_mode": {
    "name": "ipython",
    "version": 3
   },
   "file_extension": ".py",
   "mimetype": "text/x-python",
   "name": "python",
   "nbconvert_exporter": "python",
   "pygments_lexer": "ipython3",
   "version": "3.7.6"
  }
 },
 "nbformat": 4,
 "nbformat_minor": 4
}
