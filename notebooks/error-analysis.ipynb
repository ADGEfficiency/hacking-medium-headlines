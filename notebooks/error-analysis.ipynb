{
 "cells": [
  {
   "cell_type": "code",
   "execution_count": 1,
   "metadata": {},
   "outputs": [
    {
     "data": {
      "text/plain": [
       "dict_keys(['x_ho', 'x_tr', 'y_ho', 'y_tr', 'x', 'y', 'pipe-tr', 'pipe-fi', 'params'])"
      ]
     },
     "execution_count": 1,
     "metadata": {},
     "output_type": "execute_result"
    }
   ],
   "source": [
    "# from src.dirs import MODELHOME, DATAHOME\n",
    "from src.ml import to_dense, TargetEncoding, stemmer\n",
    "from src.io import load_artifacts\n",
    "\n",
    "from joblib import load\n",
    "\n",
    "from src.dirs import MODELHOME, DATAHOME\n",
    "\n",
    "rf = load_artifacts(MODELHOME / 'rf')\n",
    "\n",
    "binner = load(DATAHOME / 'processed' / 'binner.joblib')\n",
    "rf.keys()"
   ]
  },
  {
   "cell_type": "markdown",
   "metadata": {},
   "source": [
    "## prediction accuracy by site"
   ]
  },
  {
   "cell_type": "code",
   "execution_count": 2,
   "metadata": {},
   "outputs": [],
   "source": [
    "pipe_tr = rf['pipe-tr']\n",
    "x_ho = rf['x_ho']\n",
    "y_ho = rf['y_ho']\n",
    "\n",
    "pred_ho = pipe_tr.predict(x_ho).reshape(-1, 1)\n",
    "errors = abs(y_ho - pred_ho)\n",
    "x_ho.loc[:, 'abs-error'] = errors.values\n",
    "x_ho.loc[:, 'prediction'] = pred_ho"
   ]
  },
  {
   "cell_type": "code",
   "execution_count": 13,
   "metadata": {},
   "outputs": [
    {
     "data": {
      "text/plain": [
       "7122    the ultimate cheat sheet to writing your first...\n",
       "560     one-sentence truth bombs from people worth pay...\n",
       "6393                            stop writing to yourself.\n",
       "3646                          6 reasons why yahoo! failed\n",
       "6108    4 ways to get high-paying writing workdont sel...\n",
       "1480                             cryptos watershed moment\n",
       "945     how i started using baby steps to bring about ...\n",
       "994           7 things you should never do in the morning\n",
       "7224    how to become more intelligent (according to e...\n",
       "1244    im 32 and spent $200k on biohacking. became ca...\n",
       "867     i meditated for 95 days in a row. heres what h...\n",
       "5236    why opinions are overrated (even expert opinions)\n",
       "1448                               hacker product updates\n",
       "1942              advanced typescript types with examples\n",
       "558                   10 minimalist habits everyone loves\n",
       "7321                          12 books that made me think\n",
       "Name: headline, dtype: object"
      ]
     },
     "execution_count": 13,
     "metadata": {},
     "output_type": "execute_result"
    }
   ],
   "source": [
    "x_ho.sort_values('abs-error', ascending=False).head(16).loc[:, 'headline']"
   ]
  },
  {
   "cell_type": "markdown",
   "metadata": {},
   "source": [
    "## Group Errors by Site"
   ]
  },
  {
   "cell_type": "code",
   "execution_count": 4,
   "metadata": {},
   "outputs": [
    {
     "data": {
      "text/html": [
       "<div>\n",
       "<style scoped>\n",
       "    .dataframe tbody tr th:only-of-type {\n",
       "        vertical-align: middle;\n",
       "    }\n",
       "\n",
       "    .dataframe tbody tr th {\n",
       "        vertical-align: top;\n",
       "    }\n",
       "\n",
       "    .dataframe thead th {\n",
       "        text-align: right;\n",
       "    }\n",
       "</style>\n",
       "<table border=\"1\" class=\"dataframe\">\n",
       "  <thead>\n",
       "    <tr style=\"text-align: right;\">\n",
       "      <th></th>\n",
       "      <th>abs-error</th>\n",
       "      <th>binned-class</th>\n",
       "    </tr>\n",
       "    <tr>\n",
       "      <th>site_id</th>\n",
       "      <th></th>\n",
       "      <th></th>\n",
       "    </tr>\n",
       "  </thead>\n",
       "  <tbody>\n",
       "    <tr>\n",
       "      <th>level-up-web</th>\n",
       "      <td>0.368421</td>\n",
       "      <td>0.394737</td>\n",
       "    </tr>\n",
       "    <tr>\n",
       "      <th>free-code-camp</th>\n",
       "      <td>0.625000</td>\n",
       "      <td>3.333333</td>\n",
       "    </tr>\n",
       "    <tr>\n",
       "      <th>levelup</th>\n",
       "      <td>0.813187</td>\n",
       "      <td>1.208791</td>\n",
       "    </tr>\n",
       "    <tr>\n",
       "      <th>towardsdatascience</th>\n",
       "      <td>0.843750</td>\n",
       "      <td>2.554688</td>\n",
       "    </tr>\n",
       "    <tr>\n",
       "      <th>better-programming</th>\n",
       "      <td>0.933962</td>\n",
       "      <td>2.094340</td>\n",
       "    </tr>\n",
       "    <tr>\n",
       "      <th>dailyjs</th>\n",
       "      <td>1.000000</td>\n",
       "      <td>1.146341</td>\n",
       "    </tr>\n",
       "    <tr>\n",
       "      <th>personal-growth</th>\n",
       "      <td>1.024590</td>\n",
       "      <td>2.934426</td>\n",
       "    </tr>\n",
       "    <tr>\n",
       "      <th>swlh</th>\n",
       "      <td>1.041667</td>\n",
       "      <td>2.895833</td>\n",
       "    </tr>\n",
       "    <tr>\n",
       "      <th>writingcooperative</th>\n",
       "      <td>1.104839</td>\n",
       "      <td>1.604839</td>\n",
       "    </tr>\n",
       "    <tr>\n",
       "      <th>better-humans</th>\n",
       "      <td>1.113402</td>\n",
       "      <td>2.103093</td>\n",
       "    </tr>\n",
       "    <tr>\n",
       "      <th>hackernoon</th>\n",
       "      <td>1.240964</td>\n",
       "      <td>2.421687</td>\n",
       "    </tr>\n",
       "    <tr>\n",
       "      <th>the-mission</th>\n",
       "      <td>1.315789</td>\n",
       "      <td>1.800000</td>\n",
       "    </tr>\n",
       "    <tr>\n",
       "      <th>the-ascent</th>\n",
       "      <td>1.412698</td>\n",
       "      <td>1.634921</td>\n",
       "    </tr>\n",
       "  </tbody>\n",
       "</table>\n",
       "</div>"
      ],
      "text/plain": [
       "                    abs-error  binned-class\n",
       "site_id                                    \n",
       "level-up-web         0.368421      0.394737\n",
       "free-code-camp       0.625000      3.333333\n",
       "levelup              0.813187      1.208791\n",
       "towardsdatascience   0.843750      2.554688\n",
       "better-programming   0.933962      2.094340\n",
       "dailyjs              1.000000      1.146341\n",
       "personal-growth      1.024590      2.934426\n",
       "swlh                 1.041667      2.895833\n",
       "writingcooperative   1.104839      1.604839\n",
       "better-humans        1.113402      2.103093\n",
       "hackernoon           1.240964      2.421687\n",
       "the-mission          1.315789      1.800000\n",
       "the-ascent           1.412698      1.634921"
      ]
     },
     "execution_count": 4,
     "metadata": {},
     "output_type": "execute_result"
    }
   ],
   "source": [
    "site_err = x_ho.groupby('site_id').agg({'abs-error': 'mean', 'binned-class': 'mean'}).sort_values('abs-error')\n",
    "site_err"
   ]
  },
  {
   "cell_type": "code",
   "execution_count": 5,
   "metadata": {},
   "outputs": [
    {
     "data": {
      "text/plain": [
       "<AxesSubplot:xlabel='binned-class', ylabel='abs-error'>"
      ]
     },
     "execution_count": 5,
     "metadata": {},
     "output_type": "execute_result"
    },
    {
     "data": {
      "image/png": "[encoded data removed]",
      "text/plain": [
       "<Figure size 432x288 with 1 Axes>"
      ]
     },
     "metadata": {
      "needs_background": "light"
     },
     "output_type": "display_data"
    }
   ],
   "source": [
    "site_err.plot(x='binned-class', y='abs-error', kind='scatter')"
   ]
  },
  {
   "cell_type": "markdown",
   "metadata": {},
   "source": [
    "## Feature importances"
   ]
  },
  {
   "cell_type": "code",
   "execution_count": 6,
   "metadata": {},
   "outputs": [],
   "source": [
    "fea = []\n",
    "for name, tr in pipe_tr.named_steps['features'].named_transformers_.items():\n",
    "    if name == 'words':\n",
    "        fea.extend(tr.named_steps['tidf'].get_feature_names())\n",
    "    elif tr == 'passthrough':\n",
    "        fea.extend([name])\n",
    "    elif tr == 'drop':\n",
    "        pass\n",
    "    else:\n",
    "        fea.extend(tr.get_feature_names())"
   ]
  },
  {
   "cell_type": "code",
   "execution_count": 7,
   "metadata": {},
   "outputs": [
    {
     "name": "stdout",
     "output_type": "stream",
     "text": [
      "4011\n",
      "4011\n"
     ]
    },
    {
     "data": {
      "image/png": "[encoded data removed]",
      "text/plain": [
       "<Figure size 432x288 with 1 Axes>"
      ]
     },
     "metadata": {
      "needs_background": "light"
     },
     "output_type": "display_data"
    }
   ],
   "source": [
    "from src.visualize import plot_feature_importances\n",
    "\n",
    "est = rf['pipe-tr'].named_steps['est']\n",
    "\n",
    "print(len(fea))\n",
    "print(len(est.feature_importances_))\n",
    "f, a = plot_feature_importances(est, fea, n=25)"
   ]
  },
  {
   "cell_type": "code",
   "execution_count": 8,
   "metadata": {},
   "outputs": [
    {
     "data": {
      "text/plain": [
       "0"
      ]
     },
     "execution_count": 8,
     "metadata": {},
     "output_type": "execute_result"
    }
   ],
   "source": [
    "len(fea) - len(est.feature_importances_)"
   ]
  },
  {
   "cell_type": "code",
   "execution_count": null,
   "metadata": {},
   "outputs": [],
   "source": []
  },
  {
   "cell_type": "code",
   "execution_count": null,
   "metadata": {},
   "outputs": [],
   "source": []
  }
 ],
 "metadata": {
  "kernelspec": {
   "display_name": "Python 3",
   "language": "python",
   "name": "python3"
  },
  "language_info": {
   "codemirror_mode": {
    "name": "ipython",
    "version": 3
   },
   "file_extension": ".py",
   "mimetype": "text/x-python",
   "name": "python",
   "nbconvert_exporter": "python",
   "pygments_lexer": "ipython3",
   "version": "3.7.6"
  }
 },
 "nbformat": 4,
 "nbformat_minor": 4
}
